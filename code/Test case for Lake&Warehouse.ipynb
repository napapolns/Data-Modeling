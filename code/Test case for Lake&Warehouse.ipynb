{
  "nbformat": 4,
  "nbformat_minor": 0,
  "metadata": {
    "colab": {
      "provenance": [],
      "collapsed_sections": [
        "D99iKzWh6bHO"
      ]
    },
    "kernelspec": {
      "name": "python3",
      "display_name": "Python 3"
    },
    "language_info": {
      "name": "python"
    }
  },
  "cells": [
    {
      "cell_type": "markdown",
      "source": [
        "#Check info() from Cloud storage Buckets (Lake)"
      ],
      "metadata": {
        "id": "D99iKzWh6bHO"
      }
    },
    {
      "cell_type": "code",
      "source": [
        "from pydrive.auth import GoogleAuth\n",
        "from pydrive.drive import GoogleDrive\n",
        "from google.colab import auth\n",
        "from oauth2client.client import GoogleCredentials\n",
        "# Authenticate and create the PyDrive client.\n",
        "\n",
        "auth.authenticate_user()"
      ],
      "metadata": {
        "id": "5pI8VrFfNz0i"
      },
      "execution_count": 1,
      "outputs": []
    },
    {
      "cell_type": "code",
      "source": [
        "!pip install pydrive"
      ],
      "metadata": {
        "id": "XajNb1UQN15H"
      },
      "execution_count": null,
      "outputs": []
    },
    {
      "cell_type": "code",
      "source": [
        "gauth = GoogleAuth()\n",
        "gauth.credentials = GoogleCredentials.get_application_default()\n",
        "drive = GoogleDrive(gauth)\n",
        "\n",
        "link_file = 'https://drive.google.com/file/d/1Pej_RqvnqXB24WFV0j10njP-hm5-TaeR/view?usp=sharing'\n",
        "_,_,_,_,_,id,_ = link_file.split('/')\n",
        "downloaded = drive.CreateFile({'id':id})\n",
        "downloaded.GetContentFile('cleaned_datatable.csv')"
      ],
      "metadata": {
        "id": "hSCccKNMN17u"
      },
      "execution_count": 3,
      "outputs": []
    },
    {
      "cell_type": "code",
      "source": [
        "#check info() from Buckets\n",
        "import pandas as pd\n",
        "\n",
        "local_file_path = \"/content/cleaned_datatable.csv\"  # Replace with your URL\n",
        "\n",
        "# Read the CSV file from the URL\n",
        "data = pd.read_csv(local_file_path)\n",
        "data.info()"
      ],
      "metadata": {
        "colab": {
          "base_uri": "https://localhost:8080/"
        },
        "id": "Gmci8RBpebWT",
        "outputId": "1a1c9d11-c509-48f9-cf09-716520670b6d"
      },
      "execution_count": 4,
      "outputs": [
        {
          "output_type": "stream",
          "name": "stdout",
          "text": [
            "<class 'pandas.core.frame.DataFrame'>\n",
            "RangeIndex: 10260 entries, 0 to 10259\n",
            "Data columns (total 10 columns):\n",
            " #   Column          Non-Null Count  Dtype  \n",
            "---  ------          --------------  -----  \n",
            " 0   ref_no          10260 non-null  int64  \n",
            " 1   time            10260 non-null  object \n",
            " 2   vendor          10260 non-null  int64  \n",
            " 3   bill_type       10260 non-null  int64  \n",
            " 4   pickup_type     10260 non-null  int64  \n",
            " 5   payment_method  10260 non-null  int64  \n",
            " 6   sale            10260 non-null  float64\n",
            " 7   payment         10260 non-null  float64\n",
            " 8   tip             10260 non-null  float64\n",
            " 9   change          10260 non-null  float64\n",
            "dtypes: float64(4), int64(5), object(1)\n",
            "memory usage: 801.7+ KB\n"
          ]
        }
      ]
    },
    {
      "cell_type": "markdown",
      "source": [
        "#Check info, sum and count from BigQuery (Warehouse)"
      ],
      "metadata": {
        "id": "OL5S6cbx6jBh"
      }
    },
    {
      "cell_type": "code",
      "source": [
        "pip install pandas google-cloud-bigquery"
      ],
      "metadata": {
        "id": "ZRUIPj1Ufe6e"
      },
      "execution_count": null,
      "outputs": []
    },
    {
      "cell_type": "code",
      "source": [
        "pip install google-auth"
      ],
      "metadata": {
        "id": "vLHnuCYJ0u8S"
      },
      "execution_count": null,
      "outputs": []
    },
    {
      "cell_type": "code",
      "source": [
        "pip install google-auth-oauthlib"
      ],
      "metadata": {
        "id": "Jdf4qazx0_u8"
      },
      "execution_count": null,
      "outputs": []
    },
    {
      "cell_type": "code",
      "source": [
        "pip install google-auth-httplib2"
      ],
      "metadata": {
        "id": "HE4hB0341CNg"
      },
      "execution_count": null,
      "outputs": []
    },
    {
      "cell_type": "code",
      "source": [
        "pip install google-api-python-client"
      ],
      "metadata": {
        "id": "9C79zlk01E-_"
      },
      "execution_count": null,
      "outputs": []
    },
    {
      "cell_type": "code",
      "source": [
        "pip install pandas-gbq"
      ],
      "metadata": {
        "id": "56paDLQe1FB3"
      },
      "execution_count": null,
      "outputs": []
    },
    {
      "cell_type": "code",
      "source": [
        "gauth = GoogleAuth()\n",
        "gauth.credentials = GoogleCredentials.get_application_default()\n",
        "drive = GoogleDrive(gauth)\n",
        "\n",
        "link_file = 'https://drive.google.com/file/d/1TL25SzGPnc9vRb1uRVxKJHLmxMCDq_vd/view?usp=sharing'\n",
        "_,_,_,_,_,id,_ = link_file.split('/')\n",
        "downloaded = drive.CreateFile({'id':id})\n",
        "downloaded.GetContentFile('projectmadt-6ebb33456a6a.json')"
      ],
      "metadata": {
        "id": "HyUYz0uAPeBk"
      },
      "execution_count": 11,
      "outputs": []
    },
    {
      "cell_type": "code",
      "source": [
        "import pandas as pd\n",
        "from google.cloud import bigquery\n",
        "from pandas_gbq import read_gbq\n",
        "from google.oauth2 import service_account"
      ],
      "metadata": {
        "id": "njc4irUWQ5RN"
      },
      "execution_count": 12,
      "outputs": []
    },
    {
      "cell_type": "code",
      "source": [
        "# Set up your Google Cloud project ID and credentials\n",
        "project_id = \"projectmadt\"  # Replace with your project ID\n",
        "credentials_path = \"/content/projectmadt-6ebb33456a6a.json\"\n",
        "\n",
        "# Create a Google Cloud BigQuery client with your credentials\n",
        "client = bigquery.Client.from_service_account_json(credentials_path, project=project_id)\n",
        "\n",
        "# Create a google.auth.credentials.Credentials object\n",
        "creds = service_account.Credentials.from_service_account_file(credentials_path)"
      ],
      "metadata": {
        "id": "tuGfq-fjRktH"
      },
      "execution_count": 13,
      "outputs": []
    },
    {
      "cell_type": "code",
      "source": [
        "# Set up the SQL query to retrieve the data\n",
        "query = \"\"\"\n",
        "SELECT *\n",
        "FROM `projectmadt.mootod_preject_data.fact_table` \"\"\" #change table name from Bigquery\n",
        "\n",
        "# Read the data from BigQuery into a pandas DataFrame using the created credentials\n",
        "df = read_gbq(query, project_id=project_id, credentials=creds)\n",
        "\n",
        "# Print the DataFrame\n",
        "df"
      ],
      "metadata": {
        "colab": {
          "base_uri": "https://localhost:8080/",
          "height": 442
        },
        "id": "zkzUNvTkRhoI",
        "outputId": "7a000e01-e1a9-4cff-e1ee-ebb9d299382d"
      },
      "execution_count": 14,
      "outputs": [
        {
          "output_type": "stream",
          "name": "stdout",
          "text": [
            "Downloading: 100%|\u001b[32m██████████\u001b[0m|\n"
          ]
        },
        {
          "output_type": "execute_result",
          "data": {
            "text/plain": [
              "       order_id   ref_no  datetime_id  vendor_id  bill_type_id  \\\n",
              "0          4504  3005546         4504       4504          4504   \n",
              "1          8096  3009370         8096       8096          8096   \n",
              "2          5221  3006296         5221       5221          5221   \n",
              "3           272  3001286          272        272           272   \n",
              "4           724  3001741          724        724           724   \n",
              "...         ...      ...          ...        ...           ...   \n",
              "10255      2792  3003824         2792       2792          2792   \n",
              "10256      8609  3009894         8609       8609          8609   \n",
              "10257      8574  3009859         8574       8574          8574   \n",
              "10258      4644  3005689         4644       4644          4644   \n",
              "10259      3008  3004042         3008       3008          3008   \n",
              "\n",
              "       pickup_type_id  payment_method_id   sale  payment  tip  change  \n",
              "0                4504               4504    2.0      2.0  0.0     0.0  \n",
              "1                8096               8096    2.0      2.0  0.0     0.0  \n",
              "2                5221               5221    8.0      8.0  0.0     0.0  \n",
              "3                 272                272   10.0     10.0  0.0     0.0  \n",
              "4                 724                724   10.0     10.0  0.0     0.0  \n",
              "...               ...                ...    ...      ...  ...     ...  \n",
              "10255            2792               2792  334.0   1004.0  0.0   670.0  \n",
              "10256            8609               8609  298.0   1000.0  0.0   702.0  \n",
              "10257            8574               8574  457.0   1000.0  0.0   543.0  \n",
              "10258            4644               4644  329.0   1000.0  0.0   671.0  \n",
              "10259            3008               3008  297.0   1000.0  0.0   703.0  \n",
              "\n",
              "[10260 rows x 11 columns]"
            ],
            "text/html": [
              "\n",
              "  <div id=\"df-94f62cd5-a9ce-44e3-be89-f27189e99437\">\n",
              "    <div class=\"colab-df-container\">\n",
              "      <div>\n",
              "<style scoped>\n",
              "    .dataframe tbody tr th:only-of-type {\n",
              "        vertical-align: middle;\n",
              "    }\n",
              "\n",
              "    .dataframe tbody tr th {\n",
              "        vertical-align: top;\n",
              "    }\n",
              "\n",
              "    .dataframe thead th {\n",
              "        text-align: right;\n",
              "    }\n",
              "</style>\n",
              "<table border=\"1\" class=\"dataframe\">\n",
              "  <thead>\n",
              "    <tr style=\"text-align: right;\">\n",
              "      <th></th>\n",
              "      <th>order_id</th>\n",
              "      <th>ref_no</th>\n",
              "      <th>datetime_id</th>\n",
              "      <th>vendor_id</th>\n",
              "      <th>bill_type_id</th>\n",
              "      <th>pickup_type_id</th>\n",
              "      <th>payment_method_id</th>\n",
              "      <th>sale</th>\n",
              "      <th>payment</th>\n",
              "      <th>tip</th>\n",
              "      <th>change</th>\n",
              "    </tr>\n",
              "  </thead>\n",
              "  <tbody>\n",
              "    <tr>\n",
              "      <th>0</th>\n",
              "      <td>4504</td>\n",
              "      <td>3005546</td>\n",
              "      <td>4504</td>\n",
              "      <td>4504</td>\n",
              "      <td>4504</td>\n",
              "      <td>4504</td>\n",
              "      <td>4504</td>\n",
              "      <td>2.0</td>\n",
              "      <td>2.0</td>\n",
              "      <td>0.0</td>\n",
              "      <td>0.0</td>\n",
              "    </tr>\n",
              "    <tr>\n",
              "      <th>1</th>\n",
              "      <td>8096</td>\n",
              "      <td>3009370</td>\n",
              "      <td>8096</td>\n",
              "      <td>8096</td>\n",
              "      <td>8096</td>\n",
              "      <td>8096</td>\n",
              "      <td>8096</td>\n",
              "      <td>2.0</td>\n",
              "      <td>2.0</td>\n",
              "      <td>0.0</td>\n",
              "      <td>0.0</td>\n",
              "    </tr>\n",
              "    <tr>\n",
              "      <th>2</th>\n",
              "      <td>5221</td>\n",
              "      <td>3006296</td>\n",
              "      <td>5221</td>\n",
              "      <td>5221</td>\n",
              "      <td>5221</td>\n",
              "      <td>5221</td>\n",
              "      <td>5221</td>\n",
              "      <td>8.0</td>\n",
              "      <td>8.0</td>\n",
              "      <td>0.0</td>\n",
              "      <td>0.0</td>\n",
              "    </tr>\n",
              "    <tr>\n",
              "      <th>3</th>\n",
              "      <td>272</td>\n",
              "      <td>3001286</td>\n",
              "      <td>272</td>\n",
              "      <td>272</td>\n",
              "      <td>272</td>\n",
              "      <td>272</td>\n",
              "      <td>272</td>\n",
              "      <td>10.0</td>\n",
              "      <td>10.0</td>\n",
              "      <td>0.0</td>\n",
              "      <td>0.0</td>\n",
              "    </tr>\n",
              "    <tr>\n",
              "      <th>4</th>\n",
              "      <td>724</td>\n",
              "      <td>3001741</td>\n",
              "      <td>724</td>\n",
              "      <td>724</td>\n",
              "      <td>724</td>\n",
              "      <td>724</td>\n",
              "      <td>724</td>\n",
              "      <td>10.0</td>\n",
              "      <td>10.0</td>\n",
              "      <td>0.0</td>\n",
              "      <td>0.0</td>\n",
              "    </tr>\n",
              "    <tr>\n",
              "      <th>...</th>\n",
              "      <td>...</td>\n",
              "      <td>...</td>\n",
              "      <td>...</td>\n",
              "      <td>...</td>\n",
              "      <td>...</td>\n",
              "      <td>...</td>\n",
              "      <td>...</td>\n",
              "      <td>...</td>\n",
              "      <td>...</td>\n",
              "      <td>...</td>\n",
              "      <td>...</td>\n",
              "    </tr>\n",
              "    <tr>\n",
              "      <th>10255</th>\n",
              "      <td>2792</td>\n",
              "      <td>3003824</td>\n",
              "      <td>2792</td>\n",
              "      <td>2792</td>\n",
              "      <td>2792</td>\n",
              "      <td>2792</td>\n",
              "      <td>2792</td>\n",
              "      <td>334.0</td>\n",
              "      <td>1004.0</td>\n",
              "      <td>0.0</td>\n",
              "      <td>670.0</td>\n",
              "    </tr>\n",
              "    <tr>\n",
              "      <th>10256</th>\n",
              "      <td>8609</td>\n",
              "      <td>3009894</td>\n",
              "      <td>8609</td>\n",
              "      <td>8609</td>\n",
              "      <td>8609</td>\n",
              "      <td>8609</td>\n",
              "      <td>8609</td>\n",
              "      <td>298.0</td>\n",
              "      <td>1000.0</td>\n",
              "      <td>0.0</td>\n",
              "      <td>702.0</td>\n",
              "    </tr>\n",
              "    <tr>\n",
              "      <th>10257</th>\n",
              "      <td>8574</td>\n",
              "      <td>3009859</td>\n",
              "      <td>8574</td>\n",
              "      <td>8574</td>\n",
              "      <td>8574</td>\n",
              "      <td>8574</td>\n",
              "      <td>8574</td>\n",
              "      <td>457.0</td>\n",
              "      <td>1000.0</td>\n",
              "      <td>0.0</td>\n",
              "      <td>543.0</td>\n",
              "    </tr>\n",
              "    <tr>\n",
              "      <th>10258</th>\n",
              "      <td>4644</td>\n",
              "      <td>3005689</td>\n",
              "      <td>4644</td>\n",
              "      <td>4644</td>\n",
              "      <td>4644</td>\n",
              "      <td>4644</td>\n",
              "      <td>4644</td>\n",
              "      <td>329.0</td>\n",
              "      <td>1000.0</td>\n",
              "      <td>0.0</td>\n",
              "      <td>671.0</td>\n",
              "    </tr>\n",
              "    <tr>\n",
              "      <th>10259</th>\n",
              "      <td>3008</td>\n",
              "      <td>3004042</td>\n",
              "      <td>3008</td>\n",
              "      <td>3008</td>\n",
              "      <td>3008</td>\n",
              "      <td>3008</td>\n",
              "      <td>3008</td>\n",
              "      <td>297.0</td>\n",
              "      <td>1000.0</td>\n",
              "      <td>0.0</td>\n",
              "      <td>703.0</td>\n",
              "    </tr>\n",
              "  </tbody>\n",
              "</table>\n",
              "<p>10260 rows × 11 columns</p>\n",
              "</div>\n",
              "      <button class=\"colab-df-convert\" onclick=\"convertToInteractive('df-94f62cd5-a9ce-44e3-be89-f27189e99437')\"\n",
              "              title=\"Convert this dataframe to an interactive table.\"\n",
              "              style=\"display:none;\">\n",
              "        \n",
              "  <svg xmlns=\"http://www.w3.org/2000/svg\" height=\"24px\"viewBox=\"0 0 24 24\"\n",
              "       width=\"24px\">\n",
              "    <path d=\"M0 0h24v24H0V0z\" fill=\"none\"/>\n",
              "    <path d=\"M18.56 5.44l.94 2.06.94-2.06 2.06-.94-2.06-.94-.94-2.06-.94 2.06-2.06.94zm-11 1L8.5 8.5l.94-2.06 2.06-.94-2.06-.94L8.5 2.5l-.94 2.06-2.06.94zm10 10l.94 2.06.94-2.06 2.06-.94-2.06-.94-.94-2.06-.94 2.06-2.06.94z\"/><path d=\"M17.41 7.96l-1.37-1.37c-.4-.4-.92-.59-1.43-.59-.52 0-1.04.2-1.43.59L10.3 9.45l-7.72 7.72c-.78.78-.78 2.05 0 2.83L4 21.41c.39.39.9.59 1.41.59.51 0 1.02-.2 1.41-.59l7.78-7.78 2.81-2.81c.8-.78.8-2.07 0-2.86zM5.41 20L4 18.59l7.72-7.72 1.47 1.35L5.41 20z\"/>\n",
              "  </svg>\n",
              "      </button>\n",
              "      \n",
              "  <style>\n",
              "    .colab-df-container {\n",
              "      display:flex;\n",
              "      flex-wrap:wrap;\n",
              "      gap: 12px;\n",
              "    }\n",
              "\n",
              "    .colab-df-convert {\n",
              "      background-color: #E8F0FE;\n",
              "      border: none;\n",
              "      border-radius: 50%;\n",
              "      cursor: pointer;\n",
              "      display: none;\n",
              "      fill: #1967D2;\n",
              "      height: 32px;\n",
              "      padding: 0 0 0 0;\n",
              "      width: 32px;\n",
              "    }\n",
              "\n",
              "    .colab-df-convert:hover {\n",
              "      background-color: #E2EBFA;\n",
              "      box-shadow: 0px 1px 2px rgba(60, 64, 67, 0.3), 0px 1px 3px 1px rgba(60, 64, 67, 0.15);\n",
              "      fill: #174EA6;\n",
              "    }\n",
              "\n",
              "    [theme=dark] .colab-df-convert {\n",
              "      background-color: #3B4455;\n",
              "      fill: #D2E3FC;\n",
              "    }\n",
              "\n",
              "    [theme=dark] .colab-df-convert:hover {\n",
              "      background-color: #434B5C;\n",
              "      box-shadow: 0px 1px 3px 1px rgba(0, 0, 0, 0.15);\n",
              "      filter: drop-shadow(0px 1px 2px rgba(0, 0, 0, 0.3));\n",
              "      fill: #FFFFFF;\n",
              "    }\n",
              "  </style>\n",
              "\n",
              "      <script>\n",
              "        const buttonEl =\n",
              "          document.querySelector('#df-94f62cd5-a9ce-44e3-be89-f27189e99437 button.colab-df-convert');\n",
              "        buttonEl.style.display =\n",
              "          google.colab.kernel.accessAllowed ? 'block' : 'none';\n",
              "\n",
              "        async function convertToInteractive(key) {\n",
              "          const element = document.querySelector('#df-94f62cd5-a9ce-44e3-be89-f27189e99437');\n",
              "          const dataTable =\n",
              "            await google.colab.kernel.invokeFunction('convertToInteractive',\n",
              "                                                     [key], {});\n",
              "          if (!dataTable) return;\n",
              "\n",
              "          const docLinkHtml = 'Like what you see? Visit the ' +\n",
              "            '<a target=\"_blank\" href=https://colab.research.google.com/notebooks/data_table.ipynb>data table notebook</a>'\n",
              "            + ' to learn more about interactive tables.';\n",
              "          element.innerHTML = '';\n",
              "          dataTable['output_type'] = 'display_data';\n",
              "          await google.colab.output.renderOutput(dataTable, element);\n",
              "          const docLink = document.createElement('div');\n",
              "          docLink.innerHTML = docLinkHtml;\n",
              "          element.appendChild(docLink);\n",
              "        }\n",
              "      </script>\n",
              "    </div>\n",
              "  </div>\n",
              "  "
            ]
          },
          "metadata": {},
          "execution_count": 14
        }
      ]
    },
    {
      "cell_type": "code",
      "source": [
        "#for count\n",
        "columns_to_count = ['order_id'] #change columns name from df\n",
        "row_count = df[columns_to_count].count(axis=0)\n",
        "row_count"
      ],
      "metadata": {
        "id": "9yatxOA-4jNn",
        "colab": {
          "base_uri": "https://localhost:8080/"
        },
        "outputId": "47b4530d-03e4-4a62-9191-c606d394abdb"
      },
      "execution_count": 15,
      "outputs": [
        {
          "output_type": "execute_result",
          "data": {
            "text/plain": [
              "order_id    10260\n",
              "dtype: int64"
            ]
          },
          "metadata": {},
          "execution_count": 15
        }
      ]
    },
    {
      "cell_type": "code",
      "source": [
        "# Set up the SQL query to retrieve the data\n",
        "query = \"\"\"\n",
        "SELECT *\n",
        "FROM `projectmadt.mootod_preject_data.hoursale_table` \"\"\" #change table name from Bigquery\n",
        "\n",
        "# Read the data from BigQuery into a pandas DataFrame using the created credentials\n",
        "df = read_gbq(query, project_id=project_id, credentials=creds)\n",
        "\n",
        "# Print the DataFrame\n",
        "df"
      ],
      "metadata": {
        "colab": {
          "base_uri": "https://localhost:8080/",
          "height": 600
        },
        "id": "Fo8Y5uPg1yBt",
        "outputId": "c194e8d5-3a42-4b09-9c97-cb4e7984704f"
      },
      "execution_count": 16,
      "outputs": [
        {
          "output_type": "stream",
          "name": "stdout",
          "text": [
            "Downloading: 100%|\u001b[32m██████████\u001b[0m|\n"
          ]
        },
        {
          "output_type": "execute_result",
          "data": {
            "text/plain": [
              "     time_range  Total_Records  Total_Sale\n",
              "0     0:00-1:00              3      641.00\n",
              "1   10:00-11:00            356    73620.80\n",
              "2   11:00-12:00            767   170641.00\n",
              "3   12:00-13:00           1895   578459.80\n",
              "4   13:00-14:00           1133   374060.00\n",
              "5   14:00-15:00            625   151960.55\n",
              "6   15:00-16:00            544   120586.70\n",
              "7   16:00-17:00            600   141491.00\n",
              "8   17:00-18:00            878   208071.00\n",
              "9   18:00-19:00           1165   279428.80\n",
              "10  19:00-20:00           1061   266041.30\n",
              "11  20:00-21:00            973   270861.50\n",
              "12  21:00-22:00            160    52863.00\n",
              "13  22:00-23:00             27     6788.00\n",
              "14  23:00-24:00             24     5103.00\n",
              "15    8:00-9:00              2      225.00\n",
              "16   9:00-10:00             47     8194.00"
            ],
            "text/html": [
              "\n",
              "  <div id=\"df-8da6c6a6-90da-466e-9e36-2539193fc6fa\">\n",
              "    <div class=\"colab-df-container\">\n",
              "      <div>\n",
              "<style scoped>\n",
              "    .dataframe tbody tr th:only-of-type {\n",
              "        vertical-align: middle;\n",
              "    }\n",
              "\n",
              "    .dataframe tbody tr th {\n",
              "        vertical-align: top;\n",
              "    }\n",
              "\n",
              "    .dataframe thead th {\n",
              "        text-align: right;\n",
              "    }\n",
              "</style>\n",
              "<table border=\"1\" class=\"dataframe\">\n",
              "  <thead>\n",
              "    <tr style=\"text-align: right;\">\n",
              "      <th></th>\n",
              "      <th>time_range</th>\n",
              "      <th>Total_Records</th>\n",
              "      <th>Total_Sale</th>\n",
              "    </tr>\n",
              "  </thead>\n",
              "  <tbody>\n",
              "    <tr>\n",
              "      <th>0</th>\n",
              "      <td>0:00-1:00</td>\n",
              "      <td>3</td>\n",
              "      <td>641.00</td>\n",
              "    </tr>\n",
              "    <tr>\n",
              "      <th>1</th>\n",
              "      <td>10:00-11:00</td>\n",
              "      <td>356</td>\n",
              "      <td>73620.80</td>\n",
              "    </tr>\n",
              "    <tr>\n",
              "      <th>2</th>\n",
              "      <td>11:00-12:00</td>\n",
              "      <td>767</td>\n",
              "      <td>170641.00</td>\n",
              "    </tr>\n",
              "    <tr>\n",
              "      <th>3</th>\n",
              "      <td>12:00-13:00</td>\n",
              "      <td>1895</td>\n",
              "      <td>578459.80</td>\n",
              "    </tr>\n",
              "    <tr>\n",
              "      <th>4</th>\n",
              "      <td>13:00-14:00</td>\n",
              "      <td>1133</td>\n",
              "      <td>374060.00</td>\n",
              "    </tr>\n",
              "    <tr>\n",
              "      <th>5</th>\n",
              "      <td>14:00-15:00</td>\n",
              "      <td>625</td>\n",
              "      <td>151960.55</td>\n",
              "    </tr>\n",
              "    <tr>\n",
              "      <th>6</th>\n",
              "      <td>15:00-16:00</td>\n",
              "      <td>544</td>\n",
              "      <td>120586.70</td>\n",
              "    </tr>\n",
              "    <tr>\n",
              "      <th>7</th>\n",
              "      <td>16:00-17:00</td>\n",
              "      <td>600</td>\n",
              "      <td>141491.00</td>\n",
              "    </tr>\n",
              "    <tr>\n",
              "      <th>8</th>\n",
              "      <td>17:00-18:00</td>\n",
              "      <td>878</td>\n",
              "      <td>208071.00</td>\n",
              "    </tr>\n",
              "    <tr>\n",
              "      <th>9</th>\n",
              "      <td>18:00-19:00</td>\n",
              "      <td>1165</td>\n",
              "      <td>279428.80</td>\n",
              "    </tr>\n",
              "    <tr>\n",
              "      <th>10</th>\n",
              "      <td>19:00-20:00</td>\n",
              "      <td>1061</td>\n",
              "      <td>266041.30</td>\n",
              "    </tr>\n",
              "    <tr>\n",
              "      <th>11</th>\n",
              "      <td>20:00-21:00</td>\n",
              "      <td>973</td>\n",
              "      <td>270861.50</td>\n",
              "    </tr>\n",
              "    <tr>\n",
              "      <th>12</th>\n",
              "      <td>21:00-22:00</td>\n",
              "      <td>160</td>\n",
              "      <td>52863.00</td>\n",
              "    </tr>\n",
              "    <tr>\n",
              "      <th>13</th>\n",
              "      <td>22:00-23:00</td>\n",
              "      <td>27</td>\n",
              "      <td>6788.00</td>\n",
              "    </tr>\n",
              "    <tr>\n",
              "      <th>14</th>\n",
              "      <td>23:00-24:00</td>\n",
              "      <td>24</td>\n",
              "      <td>5103.00</td>\n",
              "    </tr>\n",
              "    <tr>\n",
              "      <th>15</th>\n",
              "      <td>8:00-9:00</td>\n",
              "      <td>2</td>\n",
              "      <td>225.00</td>\n",
              "    </tr>\n",
              "    <tr>\n",
              "      <th>16</th>\n",
              "      <td>9:00-10:00</td>\n",
              "      <td>47</td>\n",
              "      <td>8194.00</td>\n",
              "    </tr>\n",
              "  </tbody>\n",
              "</table>\n",
              "</div>\n",
              "      <button class=\"colab-df-convert\" onclick=\"convertToInteractive('df-8da6c6a6-90da-466e-9e36-2539193fc6fa')\"\n",
              "              title=\"Convert this dataframe to an interactive table.\"\n",
              "              style=\"display:none;\">\n",
              "        \n",
              "  <svg xmlns=\"http://www.w3.org/2000/svg\" height=\"24px\"viewBox=\"0 0 24 24\"\n",
              "       width=\"24px\">\n",
              "    <path d=\"M0 0h24v24H0V0z\" fill=\"none\"/>\n",
              "    <path d=\"M18.56 5.44l.94 2.06.94-2.06 2.06-.94-2.06-.94-.94-2.06-.94 2.06-2.06.94zm-11 1L8.5 8.5l.94-2.06 2.06-.94-2.06-.94L8.5 2.5l-.94 2.06-2.06.94zm10 10l.94 2.06.94-2.06 2.06-.94-2.06-.94-.94-2.06-.94 2.06-2.06.94z\"/><path d=\"M17.41 7.96l-1.37-1.37c-.4-.4-.92-.59-1.43-.59-.52 0-1.04.2-1.43.59L10.3 9.45l-7.72 7.72c-.78.78-.78 2.05 0 2.83L4 21.41c.39.39.9.59 1.41.59.51 0 1.02-.2 1.41-.59l7.78-7.78 2.81-2.81c.8-.78.8-2.07 0-2.86zM5.41 20L4 18.59l7.72-7.72 1.47 1.35L5.41 20z\"/>\n",
              "  </svg>\n",
              "      </button>\n",
              "      \n",
              "  <style>\n",
              "    .colab-df-container {\n",
              "      display:flex;\n",
              "      flex-wrap:wrap;\n",
              "      gap: 12px;\n",
              "    }\n",
              "\n",
              "    .colab-df-convert {\n",
              "      background-color: #E8F0FE;\n",
              "      border: none;\n",
              "      border-radius: 50%;\n",
              "      cursor: pointer;\n",
              "      display: none;\n",
              "      fill: #1967D2;\n",
              "      height: 32px;\n",
              "      padding: 0 0 0 0;\n",
              "      width: 32px;\n",
              "    }\n",
              "\n",
              "    .colab-df-convert:hover {\n",
              "      background-color: #E2EBFA;\n",
              "      box-shadow: 0px 1px 2px rgba(60, 64, 67, 0.3), 0px 1px 3px 1px rgba(60, 64, 67, 0.15);\n",
              "      fill: #174EA6;\n",
              "    }\n",
              "\n",
              "    [theme=dark] .colab-df-convert {\n",
              "      background-color: #3B4455;\n",
              "      fill: #D2E3FC;\n",
              "    }\n",
              "\n",
              "    [theme=dark] .colab-df-convert:hover {\n",
              "      background-color: #434B5C;\n",
              "      box-shadow: 0px 1px 3px 1px rgba(0, 0, 0, 0.15);\n",
              "      filter: drop-shadow(0px 1px 2px rgba(0, 0, 0, 0.3));\n",
              "      fill: #FFFFFF;\n",
              "    }\n",
              "  </style>\n",
              "\n",
              "      <script>\n",
              "        const buttonEl =\n",
              "          document.querySelector('#df-8da6c6a6-90da-466e-9e36-2539193fc6fa button.colab-df-convert');\n",
              "        buttonEl.style.display =\n",
              "          google.colab.kernel.accessAllowed ? 'block' : 'none';\n",
              "\n",
              "        async function convertToInteractive(key) {\n",
              "          const element = document.querySelector('#df-8da6c6a6-90da-466e-9e36-2539193fc6fa');\n",
              "          const dataTable =\n",
              "            await google.colab.kernel.invokeFunction('convertToInteractive',\n",
              "                                                     [key], {});\n",
              "          if (!dataTable) return;\n",
              "\n",
              "          const docLinkHtml = 'Like what you see? Visit the ' +\n",
              "            '<a target=\"_blank\" href=https://colab.research.google.com/notebooks/data_table.ipynb>data table notebook</a>'\n",
              "            + ' to learn more about interactive tables.';\n",
              "          element.innerHTML = '';\n",
              "          dataTable['output_type'] = 'display_data';\n",
              "          await google.colab.output.renderOutput(dataTable, element);\n",
              "          const docLink = document.createElement('div');\n",
              "          docLink.innerHTML = docLinkHtml;\n",
              "          element.appendChild(docLink);\n",
              "        }\n",
              "      </script>\n",
              "    </div>\n",
              "  </div>\n",
              "  "
            ]
          },
          "metadata": {},
          "execution_count": 16
        }
      ]
    },
    {
      "cell_type": "code",
      "source": [
        "#for sum\n",
        "columns_to_sum = ['Total_Records'] #change columns name from df\n",
        "row_sums = df[columns_to_sum].sum(axis=0)\n",
        "row_sums"
      ],
      "metadata": {
        "colab": {
          "base_uri": "https://localhost:8080/"
        },
        "id": "v07uizxQ3PfJ",
        "outputId": "100a5cf8-412c-4c75-fc11-95ede9d745dd"
      },
      "execution_count": 17,
      "outputs": [
        {
          "output_type": "execute_result",
          "data": {
            "text/plain": [
              "Total_Records    10260\n",
              "dtype: int64"
            ]
          },
          "metadata": {},
          "execution_count": 17
        }
      ]
    }
  ]
}