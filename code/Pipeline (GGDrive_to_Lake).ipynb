{
  "nbformat": 4,
  "nbformat_minor": 0,
  "metadata": {
    "colab": {
      "provenance": []
    },
    "kernelspec": {
      "name": "python3",
      "display_name": "Python 3"
    },
    "language_info": {
      "name": "python"
    }
  },
  "cells": [
    {
      "cell_type": "markdown",
      "source": [
        "# Loading Data from Google Drive (Data Source)"
      ],
      "metadata": {
        "id": "jtk2Rct8sRaw"
      }
    },
    {
      "cell_type": "code",
      "source": [
        "from pydrive.auth import GoogleAuth\n",
        "from pydrive.drive import GoogleDrive\n",
        "from google.colab import auth\n",
        "from oauth2client.client import GoogleCredentials\n",
        "# Authenticate and create the PyDrive client.\n",
        "\n",
        "auth.authenticate_user()"
      ],
      "metadata": {
        "id": "Ful6GR9IkzuE"
      },
      "execution_count": null,
      "outputs": []
    },
    {
      "cell_type": "code",
      "source": [
        "!pip install pydrive"
      ],
      "metadata": {
        "id": "DbRRvqCRUPkg"
      },
      "execution_count": null,
      "outputs": []
    },
    {
      "cell_type": "code",
      "execution_count": null,
      "metadata": {
        "id": "9qWVfmecxKdG"
      },
      "outputs": [],
      "source": [
        "gauth = GoogleAuth()\n",
        "gauth.credentials = GoogleCredentials.get_application_default()\n",
        "drive = GoogleDrive(gauth)\n",
        "\n",
        "link_file = 'https://drive.google.com/file/d/1Pej_RqvnqXB24WFV0j10njP-hm5-TaeR/view?usp=sharing'\n",
        "_,_,_,_,_,id,_ = link_file.split('/')\n",
        "downloaded = drive.CreateFile({'id':id})\n",
        "downloaded.GetContentFile('cleaned_datatable.csv')"
      ]
    },
    {
      "cell_type": "markdown",
      "source": [
        "# Ingesting Data to Storage Bucket (Data Lake)"
      ],
      "metadata": {
        "id": "JAYLQx9ltCPs"
      }
    },
    {
      "cell_type": "code",
      "source": [
        "from google.cloud import storage\n",
        "\n",
        "project_id = 'projectmadt'\n",
        "# project_id = 'your-project-id'\n",
        "\n",
        "bucket_name = 'mootod_data_project'\n",
        "# bucket_name = 'your-bucket-name'\n",
        "bucket = storage.Client(project=project_id).bucket(bucket_name)"
      ],
      "metadata": {
        "id": "8A6EaOONyqPZ"
      },
      "execution_count": null,
      "outputs": []
    },
    {
      "cell_type": "code",
      "source": [
        "bucket = storage.Client(project=project_id).bucket(bucket_name)\n",
        "local_file_path = '/content/cleaned_datatable.csv'\n",
        "blob = bucket.blob('cleaned_datatable.csv')\n",
        "# local_file_path = '/path/to/local/file'\n",
        "# blob = bucket.blob('path/to/remote/file')\n",
        "blob.upload_from_filename(local_file_path)"
      ],
      "metadata": {
        "id": "kKPGK1fiyqUi"
      },
      "execution_count": null,
      "outputs": []
    },
    {
      "cell_type": "code",
      "source": [],
      "metadata": {
        "id": "rIE-vpAY3eOF"
      },
      "execution_count": null,
      "outputs": []
    }
  ]
}